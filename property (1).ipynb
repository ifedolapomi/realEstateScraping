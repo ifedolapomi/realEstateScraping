{
 "cells": [
  {
   "cell_type": "code",
   "execution_count": null,
   "id": "6ef43bd0-be8b-483f-b045-443da4b9c756",
   "metadata": {},
   "outputs": [],
   "source": [
    "!pip install beautifulsoup4"
   ]
  },
  {
   "cell_type": "code",
   "execution_count": null,
   "id": "a85dfcb0-2cbe-4e31-81f4-e6feb8c165f8",
   "metadata": {},
   "outputs": [],
   "source": [
    "!pip install requests"
   ]
  },
  {
   "cell_type": "code",
   "execution_count": null,
   "id": "9fd87107-8d25-4ae0-a795-3c7319e22921",
   "metadata": {},
   "outputs": [],
   "source": [
    "!pip install selenium\n"
   ]
  },
  {
   "cell_type": "code",
   "execution_count": null,
   "id": "be771ac9-eee2-4a78-baef-8ff02d47c5af",
   "metadata": {},
   "outputs": [],
   "source": [
    "from bs4 import BeautifulSoup\n",
    "import requests\n",
    "from selenium import webdriver\n",
    "from selenium.webdriver.chrome.service import Service\n",
    "from selenium.webdriver.common.by import By\n",
    "import time"
   ]
  },
  {
   "cell_type": "code",
   "execution_count": null,
   "id": "50be40f2-2232-4d2e-b649-916b1908a01e",
   "metadata": {},
   "outputs": [],
   "source": [
    "# Setup Chrome (make sure chromedriver is installed)\n",
    "driver = webdriver.Chrome()"
   ]
  },
  {
   "cell_type": "code",
   "execution_count": null,
   "id": "d33e45a5-ed7b-40a2-9325-ac29ae7de81d",
   "metadata": {},
   "outputs": [],
   "source": [
    "url=\"https://propertypro.ng/property-for-sale/in/lagos\"\n",
    "response = requests.get(url)"
   ]
  },
  {
   "cell_type": "code",
   "execution_count": null,
   "id": "88ae6bea-b9c5-4fd9-b0f4-39b839e03231",
   "metadata": {},
   "outputs": [],
   "source": [
    "driver.get(url)"
   ]
  },
  {
   "cell_type": "code",
   "execution_count": null,
   "id": "dcab1eea-3640-4521-baad-4205c7e9fc8f",
   "metadata": {},
   "outputs": [],
   "source": [
    "# Wait for page to load JavaScript\n",
    "time.sleep(5)\n",
    "\n",
    "# Get the full rendered HTML\n",
    "html = driver.page_source"
   ]
  },
  {
   "cell_type": "code",
   "execution_count": null,
   "id": "23515bde-cd52-41d2-89fa-f01367e38667",
   "metadata": {},
   "outputs": [],
   "source": [
    "soup = BeautifulSoup(html, \"html.parser\")"
   ]
  },
  {
   "cell_type": "code",
   "execution_count": null,
   "id": "fd5dac76-c420-4038-83cc-561fc7c69f82",
   "metadata": {},
   "outputs": [],
   "source": [
    "#property title\n",
    "titles =  [tag.find('h3').text.strip() for tag in soup.find_all('div', class_='pl-title') if tag.find('h3')]\n"
   ]
  },
  {
   "cell_type": "code",
   "execution_count": null,
   "id": "5d60863e-815f-46f7-8881-c74c3c3a9a50",
   "metadata": {},
   "outputs": [],
   "source": [
    "#location\n",
    "locations = [tag.find('p').text.strip() for tag in soup.find_all('div', class_='pl-title') if tag.find('p')]\n"
   ]
  },
  {
   "cell_type": "code",
   "execution_count": null,
   "id": "26bbb32d-5157-4bb6-9dfd-50093b7ee13a",
   "metadata": {},
   "outputs": [],
   "source": [
    "special= [\", \".join(li.get_text(strip=True) for li in div.find_all('li')) for div in soup.find_all('div', class_='pl-badge-left')]"
   ]
  },
  {
   "cell_type": "code",
   "execution_count": null,
   "id": "401497b8-8b98-44f7-a543-786ca3e253fb",
   "metadata": {},
   "outputs": [],
   "source": [
    "agents = [tag.get_text(strip=True) for tag in soup.find_all('div', class_='flex-grow-1 ms-2')]"
   ]
  },
  {
   "cell_type": "code",
   "execution_count": null,
   "id": "380cb472-b8c0-4b25-a0ab-33b4b83da012",
   "metadata": {},
   "outputs": [],
   "source": [
    "#option(either for rent or sale)\n",
    "types = []\n",
    "for tag in soup.find_all('div', class_='pl-title'):\n",
    "    h6 = tag.find('h6')\n",
    "    a_tags = h6.find_all('a') if h6 else []\n",
    "    if len(a_tags) >= 2:\n",
    "        types.append(a_tags[1].text.strip())\n",
    "    else:\n",
    "        types.append(\"\")\n",
    "\n"
   ]
  },
  {
   "cell_type": "code",
   "execution_count": null,
   "id": "1be038c4-435d-4a10-90bf-2db3c42e3055",
   "metadata": {},
   "outputs": [],
   "source": [
    "# Price\n",
    "prices = [tag.find('h3').text.strip() for tag in soup.find_all('div', class_='pl-price') if tag.find('h3')]\n"
   ]
  },
  {
   "cell_type": "code",
   "execution_count": null,
   "id": "bee0ea57-f186-476b-bb78-3e20755fc277",
   "metadata": {},
   "outputs": [],
   "source": [
    "#features\n",
    "#  Get all <div class=\"pl-price\"> sections\n",
    "features = [tag.find('h6').text.strip() for tag in soup.find_all('div', class_='pl-price') if tag.find('h6')]"
   ]
  },
  {
   "cell_type": "code",
   "execution_count": null,
   "id": "1cec40a6-6a2d-4e17-bdaa-cc7c6b3c1f31",
   "metadata": {},
   "outputs": [],
   "source": [
    "dates = [tag.text.strip() for tag in soup.find_all('p', class_='date-added')]"
   ]
  },
  {
   "cell_type": "code",
   "execution_count": null,
   "id": "8266a6dd-d36d-44d5-bd37-0d3b378c03ec",
   "metadata": {},
   "outputs": [],
   "source": [
    "# Badges\n",
    "badges = [tag.text.strip() for tag in soup.find_all('div', class_='pg-badge')]"
   ]
  },
  {
   "cell_type": "code",
   "execution_count": null,
   "id": "716df0b6-cc68-4442-96ce-f62220e562b7",
   "metadata": {},
   "outputs": [],
   "source": [
    "#put everything in a list\n",
    "data=[]"
   ]
  },
  {
   "cell_type": "code",
   "execution_count": null,
   "id": "7105f618-134e-4ab7-8d81-563ed8fa435f",
   "metadata": {},
   "outputs": [],
   "source": [
    "\n",
    "# Combine into rows using zip\n",
    "data = []\n",
    "for title, price, location, feature, badge, agent, special, date in zip(\n",
    "    titles, prices, locations, features, badges, agents, special, dates\n",
    "):\n",
    "    data.append({\n",
    "        \"Title\": title,\n",
    "        \"Price\": price,\n",
    "        \"Location\": location,\n",
    "        \"Feature\": feature,\n",
    "        \"Badge\": badge,\n",
    "        \"Agent\": agent,\n",
    "        \"Special\": special,\n",
    "        \"Date Info\": date\n",
    "    })\n",
    "\n",
    "# Create DataFrame\n",
    "df = pd.DataFrame(data)"
   ]
  },
  {
   "cell_type": "code",
   "execution_count": null,
   "id": "21350925-57f3-4e28-998e-ae92283521df",
   "metadata": {},
   "outputs": [],
   "source": [
    "df"
   ]
  },
  {
   "cell_type": "code",
   "execution_count": null,
   "id": "43d63edc-8a3d-4b16-9972-0c76b1149b0a",
   "metadata": {},
   "outputs": [],
   "source": [
    "print(len(titles), len(locations), len(types), len(prices), len(features), len(agents), len(dates), len(badges))\n"
   ]
  },
  {
   "cell_type": "code",
   "execution_count": null,
   "id": "ac03d420-ac64-400e-bb5c-e8f99fab2057",
   "metadata": {},
   "outputs": [],
   "source": [
    "df.info()"
   ]
  },
  {
   "cell_type": "code",
   "execution_count": null,
   "id": "fc332cb8-e387-476f-8eeb-d2a89543e9b1",
   "metadata": {},
   "outputs": [],
   "source": [
    "#clean the data\n"
   ]
  }
 ],
 "metadata": {
  "kernelspec": {
   "display_name": "Python 3 (ipykernel)",
   "language": "python",
   "name": "python3"
  },
  "language_info": {
   "codemirror_mode": {
    "name": "ipython",
    "version": 3
   },
   "file_extension": ".py",
   "mimetype": "text/x-python",
   "name": "python",
   "nbconvert_exporter": "python",
   "pygments_lexer": "ipython3",
   "version": "3.13.5"
  }
 },
 "nbformat": 4,
 "nbformat_minor": 5
}
