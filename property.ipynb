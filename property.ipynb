{
 "cells": [
  {
   "cell_type": "code",
   "execution_count": 1,
   "id": "6ef43bd0-be8b-483f-b045-443da4b9c756",
   "metadata": {},
   "outputs": [
    {
     "name": "stdout",
     "output_type": "stream",
     "text": [
      "Requirement already satisfied: beautifulsoup4 in c:\\users\\user\\anaconda3\\lib\\site-packages (4.12.3)\n",
      "Requirement already satisfied: soupsieve>1.2 in c:\\users\\user\\anaconda3\\lib\\site-packages (from beautifulsoup4) (2.5)\n"
     ]
    }
   ],
   "source": [
    "!pip install beautifulsoup4"
   ]
  },
  {
   "cell_type": "code",
   "execution_count": 2,
   "id": "a85dfcb0-2cbe-4e31-81f4-e6feb8c165f8",
   "metadata": {},
   "outputs": [
    {
     "name": "stdout",
     "output_type": "stream",
     "text": [
      "Requirement already satisfied: requests in c:\\users\\user\\anaconda3\\lib\\site-packages (2.32.3)\n",
      "Requirement already satisfied: charset-normalizer<4,>=2 in c:\\users\\user\\anaconda3\\lib\\site-packages (from requests) (3.3.2)\n",
      "Requirement already satisfied: idna<4,>=2.5 in c:\\users\\user\\anaconda3\\lib\\site-packages (from requests) (3.7)\n",
      "Requirement already satisfied: urllib3<3,>=1.21.1 in c:\\users\\user\\anaconda3\\lib\\site-packages (from requests) (2.5.0)\n",
      "Requirement already satisfied: certifi>=2017.4.17 in c:\\users\\user\\anaconda3\\lib\\site-packages (from requests) (2025.7.14)\n"
     ]
    }
   ],
   "source": [
    "!pip install requests"
   ]
  },
  {
   "cell_type": "code",
   "execution_count": 3,
   "id": "9fd87107-8d25-4ae0-a795-3c7319e22921",
   "metadata": {},
   "outputs": [
    {
     "name": "stdout",
     "output_type": "stream",
     "text": [
      "Requirement already satisfied: selenium in c:\\users\\user\\anaconda3\\lib\\site-packages (4.34.2)\n",
      "Requirement already satisfied: urllib3~=2.5.0 in c:\\users\\user\\anaconda3\\lib\\site-packages (from urllib3[socks]~=2.5.0->selenium) (2.5.0)\n",
      "Requirement already satisfied: trio~=0.30.0 in c:\\users\\user\\anaconda3\\lib\\site-packages (from selenium) (0.30.0)\n",
      "Requirement already satisfied: trio-websocket~=0.12.2 in c:\\users\\user\\anaconda3\\lib\\site-packages (from selenium) (0.12.2)\n",
      "Requirement already satisfied: certifi>=2025.6.15 in c:\\users\\user\\anaconda3\\lib\\site-packages (from selenium) (2025.7.14)\n",
      "Requirement already satisfied: typing_extensions~=4.14.0 in c:\\users\\user\\anaconda3\\lib\\site-packages (from selenium) (4.14.1)\n",
      "Requirement already satisfied: websocket-client~=1.8.0 in c:\\users\\user\\anaconda3\\lib\\site-packages (from selenium) (1.8.0)\n",
      "Requirement already satisfied: attrs>=23.2.0 in c:\\users\\user\\anaconda3\\lib\\site-packages (from trio~=0.30.0->selenium) (24.3.0)\n",
      "Requirement already satisfied: sortedcontainers in c:\\users\\user\\anaconda3\\lib\\site-packages (from trio~=0.30.0->selenium) (2.4.0)\n",
      "Requirement already satisfied: idna in c:\\users\\user\\anaconda3\\lib\\site-packages (from trio~=0.30.0->selenium) (3.7)\n",
      "Requirement already satisfied: outcome in c:\\users\\user\\anaconda3\\lib\\site-packages (from trio~=0.30.0->selenium) (1.3.0.post0)\n",
      "Requirement already satisfied: sniffio>=1.3.0 in c:\\users\\user\\anaconda3\\lib\\site-packages (from trio~=0.30.0->selenium) (1.3.0)\n",
      "Requirement already satisfied: cffi>=1.14 in c:\\users\\user\\anaconda3\\lib\\site-packages (from trio~=0.30.0->selenium) (1.17.1)\n",
      "Requirement already satisfied: wsproto>=0.14 in c:\\users\\user\\anaconda3\\lib\\site-packages (from trio-websocket~=0.12.2->selenium) (1.2.0)\n",
      "Requirement already satisfied: pysocks!=1.5.7,<2.0,>=1.5.6 in c:\\users\\user\\anaconda3\\lib\\site-packages (from urllib3[socks]~=2.5.0->selenium) (1.7.1)\n",
      "Requirement already satisfied: pycparser in c:\\users\\user\\anaconda3\\lib\\site-packages (from cffi>=1.14->trio~=0.30.0->selenium) (2.21)\n",
      "Requirement already satisfied: h11<1,>=0.9.0 in c:\\users\\user\\anaconda3\\lib\\site-packages (from wsproto>=0.14->trio-websocket~=0.12.2->selenium) (0.16.0)\n"
     ]
    }
   ],
   "source": [
    "!pip install selenium\n"
   ]
  },
  {
   "cell_type": "code",
   "execution_count": 4,
   "id": "be771ac9-eee2-4a78-baef-8ff02d47c5af",
   "metadata": {},
   "outputs": [],
   "source": [
    "from bs4 import BeautifulSoup\n",
    "import requests\n",
    "from selenium import webdriver\n",
    "from selenium.webdriver.chrome.service import Service\n",
    "from selenium.webdriver.common.by import By\n",
    "import time"
   ]
  },
  {
   "cell_type": "code",
   "execution_count": 5,
   "id": "50be40f2-2232-4d2e-b649-916b1908a01e",
   "metadata": {},
   "outputs": [],
   "source": [
    "# Setup Chrome (make sure chromedriver is installed)\n",
    "driver = webdriver.Chrome()"
   ]
  },
  {
   "cell_type": "code",
   "execution_count": 6,
   "id": "d33e45a5-ed7b-40a2-9325-ac29ae7de81d",
   "metadata": {},
   "outputs": [],
   "source": [
    "url=\"https://propertypro.ng/property-for-sale/in/lagos\"\n",
    "response = requests.get(url)"
   ]
  },
  {
   "cell_type": "code",
   "execution_count": 7,
   "id": "88ae6bea-b9c5-4fd9-b0f4-39b839e03231",
   "metadata": {},
   "outputs": [],
   "source": [
    "driver.get(url)"
   ]
  },
  {
   "cell_type": "code",
   "execution_count": 8,
   "id": "dcab1eea-3640-4521-baad-4205c7e9fc8f",
   "metadata": {},
   "outputs": [],
   "source": [
    "# Wait for page to load JavaScript\n",
    "time.sleep(5)\n",
    "\n",
    "# Get the full rendered HTML\n",
    "html = driver.page_source"
   ]
  },
  {
   "cell_type": "code",
   "execution_count": 9,
   "id": "23515bde-cd52-41d2-89fa-f01367e38667",
   "metadata": {},
   "outputs": [],
   "source": [
    "soup = BeautifulSoup(html, \"html.parser\")"
   ]
  },
  {
   "cell_type": "code",
   "execution_count": 57,
   "id": "fd5dac76-c420-4038-83cc-561fc7c69f82",
   "metadata": {},
   "outputs": [],
   "source": [
    "#property title\n",
    "titles =  [tag.find('h3').text.strip() for tag in soup.find_all('div', class_='pl-title') if tag.find('h3')]\n"
   ]
  },
  {
   "cell_type": "code",
   "execution_count": 58,
   "id": "5d60863e-815f-46f7-8881-c74c3c3a9a50",
   "metadata": {},
   "outputs": [],
   "source": [
    "#location\n",
    "locations = [tag.find('p').text.strip() for tag in soup.find_all('div', class_='pl-title') if tag.find('p')]\n"
   ]
  },
  {
   "cell_type": "code",
   "execution_count": 85,
   "id": "26bbb32d-5157-4bb6-9dfd-50093b7ee13a",
   "metadata": {},
   "outputs": [],
   "source": [
    "special= [\", \".join(li.get_text(strip=True) for li in div.find_all('li')) for div in soup.find_all('div', class_='pl-badge-left')]"
   ]
  },
  {
   "cell_type": "code",
   "execution_count": 67,
   "id": "401497b8-8b98-44f7-a543-786ca3e253fb",
   "metadata": {},
   "outputs": [],
   "source": [
    "agents = [tag.get_text(strip=True) for tag in soup.find_all('div', class_='flex-grow-1 ms-2')]"
   ]
  },
  {
   "cell_type": "code",
   "execution_count": 68,
   "id": "380cb472-b8c0-4b25-a0ab-33b4b83da012",
   "metadata": {},
   "outputs": [],
   "source": [
    "#option(either for rent or sale)\n",
    "types = []\n",
    "for tag in soup.find_all('div', class_='pl-title'):\n",
    "    h6 = tag.find('h6')\n",
    "    a_tags = h6.find_all('a') if h6 else []\n",
    "    if len(a_tags) >= 2:\n",
    "        types.append(a_tags[1].text.strip())\n",
    "    else:\n",
    "        types.append(\"\")\n",
    "\n"
   ]
  },
  {
   "cell_type": "code",
   "execution_count": 69,
   "id": "1be038c4-435d-4a10-90bf-2db3c42e3055",
   "metadata": {},
   "outputs": [],
   "source": [
    "# Price\n",
    "prices = [tag.find('h3').text.strip() for tag in soup.find_all('div', class_='pl-price') if tag.find('h3')]\n"
   ]
  },
  {
   "cell_type": "code",
   "execution_count": 70,
   "id": "bee0ea57-f186-476b-bb78-3e20755fc277",
   "metadata": {},
   "outputs": [],
   "source": [
    "#features\n",
    "#  Get all <div class=\"pl-price\"> sections\n",
    "features = [tag.find('h6').text.strip() for tag in soup.find_all('div', class_='pl-price') if tag.find('h6')]"
   ]
  },
  {
   "cell_type": "code",
   "execution_count": 71,
   "id": "1cec40a6-6a2d-4e17-bdaa-cc7c6b3c1f31",
   "metadata": {},
   "outputs": [],
   "source": [
    "dates = [tag.text.strip() for tag in soup.find_all('p', class_='date-added')]"
   ]
  },
  {
   "cell_type": "code",
   "execution_count": 53,
   "id": "8266a6dd-d36d-44d5-bd37-0d3b378c03ec",
   "metadata": {},
   "outputs": [],
   "source": [
    "# Badges\n",
    "badges = [tag.text.strip() for tag in soup.find_all('div', class_='pg-badge')]"
   ]
  },
  {
   "cell_type": "code",
   "execution_count": 25,
   "id": "716df0b6-cc68-4442-96ce-f62220e562b7",
   "metadata": {},
   "outputs": [],
   "source": [
    "#put everything in a list\n",
    "data=[]"
   ]
  },
  {
   "cell_type": "code",
   "execution_count": 89,
   "id": "7105f618-134e-4ab7-8d81-563ed8fa435f",
   "metadata": {},
   "outputs": [],
   "source": [
    "\n",
    "# Combine into rows using zip\n",
    "data = []\n",
    "for title, price, location, feature, badge, agent, special, date in zip(\n",
    "    titles, prices, locations, features, badges, agents, special, dates\n",
    "):\n",
    "    data.append({\n",
    "        \"Title\": title,\n",
    "        \"Price\": price,\n",
    "        \"Location\": location,\n",
    "        \"Feature\": feature,\n",
    "        \"Badge\": badge,\n",
    "        \"Agent\": agent,\n",
    "        \"Special\": special,\n",
    "        \"Date Info\": date\n",
    "    })\n",
    "\n",
    "# Create DataFrame\n",
    "df = pd.DataFrame(data)"
   ]
  },
  {
   "cell_type": "code",
   "execution_count": 90,
   "id": "21350925-57f3-4e28-998e-ae92283521df",
   "metadata": {},
   "outputs": [
    {
     "data": {
      "text/html": [
       "<div>\n",
       "<style scoped>\n",
       "    .dataframe tbody tr th:only-of-type {\n",
       "        vertical-align: middle;\n",
       "    }\n",
       "\n",
       "    .dataframe tbody tr th {\n",
       "        vertical-align: top;\n",
       "    }\n",
       "\n",
       "    .dataframe thead th {\n",
       "        text-align: right;\n",
       "    }\n",
       "</style>\n",
       "<table border=\"1\" class=\"dataframe\">\n",
       "  <thead>\n",
       "    <tr style=\"text-align: right;\">\n",
       "      <th></th>\n",
       "      <th>Title</th>\n",
       "      <th>Price</th>\n",
       "      <th>Location</th>\n",
       "      <th>Feature</th>\n",
       "      <th>Badge</th>\n",
       "      <th>Agent</th>\n",
       "      <th>Special</th>\n",
       "      <th>Date Info</th>\n",
       "    </tr>\n",
       "  </thead>\n",
       "  <tbody>\n",
       "    <tr>\n",
       "      <th>0</th>\n",
       "      <td>2 Bedroom Apartment+ Elevator &amp; Pool</td>\n",
       "      <td>₦ 140,000,000</td>\n",
       "      <td>Ikate Lekki Lagos</td>\n",
       "      <td>2 Beds 2 Baths</td>\n",
       "      <td>Premium Gold</td>\n",
       "      <td>KOLDEJ HOMES</td>\n",
       "      <td>Serviced, Newly Built, Only on PropertyPro</td>\n",
       "      <td>Updated 31 Jul 2025, Added 27 Oct 2024</td>\n",
       "    </tr>\n",
       "    <tr>\n",
       "      <th>1</th>\n",
       "      <td>3 Bedroom Terrace Duplex</td>\n",
       "      <td>₦ 70,000,000</td>\n",
       "      <td>Ajah Lagos</td>\n",
       "      <td>3 Beds 3 Baths</td>\n",
       "      <td>Premium Gold</td>\n",
       "      <td>Freddie Homes</td>\n",
       "      <td>Pop Ceiling, Water Treatment, Governor's Consent</td>\n",
       "      <td>Updated 01 Aug 2025, Added 01 Jul 2025</td>\n",
       "    </tr>\n",
       "    <tr>\n",
       "      <th>2</th>\n",
       "      <td>3 Bedroom Terrace Duplex</td>\n",
       "      <td>₦ 280,000,000</td>\n",
       "      <td>Lekki Phase 1 Lekki Lagos</td>\n",
       "      <td>3 Beds 3 Baths</td>\n",
       "      <td>Premium Gold</td>\n",
       "      <td>Freddie Homes</td>\n",
       "      <td>Pop Ceiling, Water Treatment, Governor's Consent</td>\n",
       "      <td>Updated 01 Aug 2025, Added 12 May 2025</td>\n",
       "    </tr>\n",
       "    <tr>\n",
       "      <th>3</th>\n",
       "      <td>Distress Sale 3 Bedroom Flat Apartment</td>\n",
       "      <td>₦ 68,000,000</td>\n",
       "      <td>Orchid Lekki Lagos</td>\n",
       "      <td>3 Beds 3 Baths</td>\n",
       "      <td>Premium Gold</td>\n",
       "      <td>Freddie Homes</td>\n",
       "      <td>Pop Ceiling, Water Treatment, Governor's Consent</td>\n",
       "      <td>Updated 01 Aug 2025, Added 27 Jul 2025</td>\n",
       "    </tr>\n",
       "    <tr>\n",
       "      <th>4</th>\n",
       "      <td>4 Bedroom Semi Detached Duplex</td>\n",
       "      <td>₦ 160,000,000</td>\n",
       "      <td>Ikota Lekki Lagos</td>\n",
       "      <td>4 Beds 4 Baths</td>\n",
       "      <td>Premium Gold</td>\n",
       "      <td>Freddie Homes</td>\n",
       "      <td>Pop Ceiling, Water Treatment, Governor's Consent</td>\n",
       "      <td>Updated 01 Aug 2025, Added 19 May 2025</td>\n",
       "    </tr>\n",
       "    <tr>\n",
       "      <th>5</th>\n",
       "      <td>3 Bedroom Apartment</td>\n",
       "      <td>₦ 130,000,000</td>\n",
       "      <td>Osapa London Lekki Lagos</td>\n",
       "      <td>3 Beds 3 Baths</td>\n",
       "      <td>Premium Gold</td>\n",
       "      <td>Freddie Homes</td>\n",
       "      <td>Pop Ceiling, Water Treatment, Governor's Consent</td>\n",
       "      <td>Updated 01 Aug 2025, Added 11 Jun 2025</td>\n",
       "    </tr>\n",
       "    <tr>\n",
       "      <th>6</th>\n",
       "      <td>4 Bedroom Semi Detached Duplex</td>\n",
       "      <td>₦ 140,000,000</td>\n",
       "      <td>Orchid Lekki Lagos</td>\n",
       "      <td>4 Beds 4 Baths</td>\n",
       "      <td>Premium Gold</td>\n",
       "      <td>Freddie Homes</td>\n",
       "      <td>Pop Ceiling, Water Treatment, Governor's Consent</td>\n",
       "      <td>Updated 01 Aug 2025, Added 15 Jun 2025</td>\n",
       "    </tr>\n",
       "    <tr>\n",
       "      <th>7</th>\n",
       "      <td>Super Luxury 4 Bedroom Terrace Duplex</td>\n",
       "      <td>₦ 150,000,000</td>\n",
       "      <td>Orchid Lekki Lagos</td>\n",
       "      <td>4 Beds 4 Baths</td>\n",
       "      <td>Premium Gold</td>\n",
       "      <td>Freddie Homes</td>\n",
       "      <td>Pop Ceiling, Water Treatment, Governor's Consent</td>\n",
       "      <td>Updated 01 Aug 2025, Added 24 Jul 2025</td>\n",
       "    </tr>\n",
       "    <tr>\n",
       "      <th>8</th>\n",
       "      <td>Luxury Brand New 3 Bedroom House</td>\n",
       "      <td>₦ 145,000,000</td>\n",
       "      <td>Ikate Lekki Lagos</td>\n",
       "      <td>3 Beds 3 Baths</td>\n",
       "      <td>Premium Gold</td>\n",
       "      <td>Freddie Homes</td>\n",
       "      <td>Printing Service, Pop Ceiling, Water Treatment</td>\n",
       "      <td>Updated 01 Aug 2025, Added 30 Jul 2025</td>\n",
       "    </tr>\n",
       "    <tr>\n",
       "      <th>9</th>\n",
       "      <td>4 Bedroom Semi Detached Duplex</td>\n",
       "      <td>₦ 90,000,000</td>\n",
       "      <td>Ajah Lagos</td>\n",
       "      <td>4 Beds 4 Baths</td>\n",
       "      <td>Premium Gold</td>\n",
       "      <td>Freddie Homes</td>\n",
       "      <td>Cctv Cameras, Pop Ceiling, Water Treatment</td>\n",
       "      <td>Updated 01 Aug 2025, Added 20 Mar 2025</td>\n",
       "    </tr>\n",
       "    <tr>\n",
       "      <th>10</th>\n",
       "      <td>Exotic 4 Bedroom Semi Detached Duplex+ Bq + Pool</td>\n",
       "      <td>₦ 600,000,000</td>\n",
       "      <td>Cowrie Creek Estate Ikate Lekki Lagos</td>\n",
       "      <td>4 Beds 4 Baths</td>\n",
       "      <td>Premium Gold</td>\n",
       "      <td>KOLDEJ HOMES</td>\n",
       "      <td>Newly Built, Only on PropertyPro</td>\n",
       "      <td>Updated 31 Jul 2025, Added 01 Sep 2024</td>\n",
       "    </tr>\n",
       "    <tr>\n",
       "      <th>11</th>\n",
       "      <td>4 Bedroom Terrace Duplex</td>\n",
       "      <td>₦ 130,000,000</td>\n",
       "      <td>Chevron Lekki Lagos</td>\n",
       "      <td>4 Beds 4 Baths</td>\n",
       "      <td>Premium Gold</td>\n",
       "      <td>Freddie Homes</td>\n",
       "      <td>Pop Ceiling, Water Treatment, Governor's Consent</td>\n",
       "      <td>Updated 01 Aug 2025, Added 04 May 2025</td>\n",
       "    </tr>\n",
       "    <tr>\n",
       "      <th>12</th>\n",
       "      <td>Brand New 4 Bedroom Semi Detached Duplex</td>\n",
       "      <td>₦ 240,000,000</td>\n",
       "      <td>Chevron Lekki Lagos</td>\n",
       "      <td>4 Beds 4 Baths</td>\n",
       "      <td>Premium Gold</td>\n",
       "      <td>Freddie Homes</td>\n",
       "      <td>Pop Ceiling, Water Treatment, Governor's Consent</td>\n",
       "      <td>Updated 01 Aug 2025, Added 13 Jun 2025</td>\n",
       "    </tr>\n",
       "    <tr>\n",
       "      <th>13</th>\n",
       "      <td>4 Bedroom Terrace Duplex</td>\n",
       "      <td>₦ 120,000,000</td>\n",
       "      <td>Orchid Lekki Lagos</td>\n",
       "      <td>4 Beds 4 Baths</td>\n",
       "      <td>Premium Gold</td>\n",
       "      <td>Freddie Homes</td>\n",
       "      <td>Pop Ceiling, Water Treatment, 24 Hours Electri...</td>\n",
       "      <td>Updated 01 Aug 2025, Added 16 Jun 2025</td>\n",
       "    </tr>\n",
       "    <tr>\n",
       "      <th>14</th>\n",
       "      <td>4 Bedroom Semi Detached Duplex</td>\n",
       "      <td>₦ 93,000,000</td>\n",
       "      <td>Ajah Lagos</td>\n",
       "      <td>4 Beds 4 Baths</td>\n",
       "      <td>Premium Gold</td>\n",
       "      <td>Freddie Homes</td>\n",
       "      <td>Pop Ceiling, Water Treatment, Governor's Consent</td>\n",
       "      <td>Updated 01 Aug 2025, Added 13 Jul 2025</td>\n",
       "    </tr>\n",
       "    <tr>\n",
       "      <th>15</th>\n",
       "      <td>3 Bedroom Terraced Duplex With Bq</td>\n",
       "      <td>₦ 75,000,000</td>\n",
       "      <td>Orchid Lekki Lagos</td>\n",
       "      <td>3 Beds 3 Baths</td>\n",
       "      <td>Premium Gold</td>\n",
       "      <td>Freddie Homes</td>\n",
       "      <td>Pop Ceiling, Water Treatment, Governor's Consent</td>\n",
       "      <td>Updated 01 Aug 2025, Added 25 Nov 2024</td>\n",
       "    </tr>\n",
       "    <tr>\n",
       "      <th>16</th>\n",
       "      <td>2 Bedroom Flat</td>\n",
       "      <td>₦ 260,000,000</td>\n",
       "      <td>Ikoyi Lagos</td>\n",
       "      <td>2 Beds 2 Baths</td>\n",
       "      <td>Premium Gold</td>\n",
       "      <td>Freddie Homes</td>\n",
       "      <td>Pop Ceiling, Water Treatment, 24 Hours Electri...</td>\n",
       "      <td>Updated 01 Aug 2025, Added 03 Jun 2025</td>\n",
       "    </tr>\n",
       "    <tr>\n",
       "      <th>17</th>\n",
       "      <td>3 Bedroom Penthouse</td>\n",
       "      <td>₦ 300,000,000</td>\n",
       "      <td>Lekki Phase 1 Lekki Lagos</td>\n",
       "      <td>3 Beds 3 Baths</td>\n",
       "      <td>Premium Gold</td>\n",
       "      <td>Freddie Homes</td>\n",
       "      <td>Pop Ceiling, Water Treatment, 24 Hours Electri...</td>\n",
       "      <td>Updated 01 Aug 2025, Added 04 Mar 2025</td>\n",
       "    </tr>\n",
       "    <tr>\n",
       "      <th>18</th>\n",
       "      <td>3 Bedroom Terrace Duplex With Bq</td>\n",
       "      <td>₦ 80,000,000</td>\n",
       "      <td>Ajah Lagos</td>\n",
       "      <td>3 Beds 3 Baths</td>\n",
       "      <td>Premium Gold</td>\n",
       "      <td>Freddie Homes</td>\n",
       "      <td>Pop Ceiling, Water Treatment, Governor's Consent</td>\n",
       "      <td>Updated 01 Aug 2025, Added 01 Jul 2025</td>\n",
       "    </tr>\n",
       "    <tr>\n",
       "      <th>19</th>\n",
       "      <td>2 Bedroom Terrace Duplex</td>\n",
       "      <td>₦ 55,000,000</td>\n",
       "      <td>Ajah Lagos</td>\n",
       "      <td>2 Beds 2 Baths</td>\n",
       "      <td>Premium Gold</td>\n",
       "      <td>Freddie Homes</td>\n",
       "      <td>Pop Ceiling, Water Treatment, Governor's Consent</td>\n",
       "      <td>Updated 01 Aug 2025, Added 01 Jul 2025</td>\n",
       "    </tr>\n",
       "  </tbody>\n",
       "</table>\n",
       "</div>"
      ],
      "text/plain": [
       "                                               Title          Price  \\\n",
       "0               2 Bedroom Apartment+ Elevator & Pool  ₦ 140,000,000   \n",
       "1                           3 Bedroom Terrace Duplex   ₦ 70,000,000   \n",
       "2                           3 Bedroom Terrace Duplex  ₦ 280,000,000   \n",
       "3             Distress Sale 3 Bedroom Flat Apartment   ₦ 68,000,000   \n",
       "4                     4 Bedroom Semi Detached Duplex  ₦ 160,000,000   \n",
       "5                                3 Bedroom Apartment  ₦ 130,000,000   \n",
       "6                     4 Bedroom Semi Detached Duplex  ₦ 140,000,000   \n",
       "7              Super Luxury 4 Bedroom Terrace Duplex  ₦ 150,000,000   \n",
       "8                   Luxury Brand New 3 Bedroom House  ₦ 145,000,000   \n",
       "9                     4 Bedroom Semi Detached Duplex   ₦ 90,000,000   \n",
       "10  Exotic 4 Bedroom Semi Detached Duplex+ Bq + Pool  ₦ 600,000,000   \n",
       "11                          4 Bedroom Terrace Duplex  ₦ 130,000,000   \n",
       "12          Brand New 4 Bedroom Semi Detached Duplex  ₦ 240,000,000   \n",
       "13                          4 Bedroom Terrace Duplex  ₦ 120,000,000   \n",
       "14                    4 Bedroom Semi Detached Duplex   ₦ 93,000,000   \n",
       "15                 3 Bedroom Terraced Duplex With Bq   ₦ 75,000,000   \n",
       "16                                    2 Bedroom Flat  ₦ 260,000,000   \n",
       "17                               3 Bedroom Penthouse  ₦ 300,000,000   \n",
       "18                  3 Bedroom Terrace Duplex With Bq   ₦ 80,000,000   \n",
       "19                          2 Bedroom Terrace Duplex   ₦ 55,000,000   \n",
       "\n",
       "                                 Location         Feature         Badge  \\\n",
       "0                       Ikate Lekki Lagos  2 Beds 2 Baths  Premium Gold   \n",
       "1                              Ajah Lagos  3 Beds 3 Baths  Premium Gold   \n",
       "2               Lekki Phase 1 Lekki Lagos  3 Beds 3 Baths  Premium Gold   \n",
       "3                      Orchid Lekki Lagos  3 Beds 3 Baths  Premium Gold   \n",
       "4                       Ikota Lekki Lagos  4 Beds 4 Baths  Premium Gold   \n",
       "5                Osapa London Lekki Lagos  3 Beds 3 Baths  Premium Gold   \n",
       "6                      Orchid Lekki Lagos  4 Beds 4 Baths  Premium Gold   \n",
       "7                      Orchid Lekki Lagos  4 Beds 4 Baths  Premium Gold   \n",
       "8                       Ikate Lekki Lagos  3 Beds 3 Baths  Premium Gold   \n",
       "9                              Ajah Lagos  4 Beds 4 Baths  Premium Gold   \n",
       "10  Cowrie Creek Estate Ikate Lekki Lagos  4 Beds 4 Baths  Premium Gold   \n",
       "11                    Chevron Lekki Lagos  4 Beds 4 Baths  Premium Gold   \n",
       "12                    Chevron Lekki Lagos  4 Beds 4 Baths  Premium Gold   \n",
       "13                     Orchid Lekki Lagos  4 Beds 4 Baths  Premium Gold   \n",
       "14                             Ajah Lagos  4 Beds 4 Baths  Premium Gold   \n",
       "15                     Orchid Lekki Lagos  3 Beds 3 Baths  Premium Gold   \n",
       "16                            Ikoyi Lagos  2 Beds 2 Baths  Premium Gold   \n",
       "17              Lekki Phase 1 Lekki Lagos  3 Beds 3 Baths  Premium Gold   \n",
       "18                             Ajah Lagos  3 Beds 3 Baths  Premium Gold   \n",
       "19                             Ajah Lagos  2 Beds 2 Baths  Premium Gold   \n",
       "\n",
       "            Agent                                            Special  \\\n",
       "0    KOLDEJ HOMES         Serviced, Newly Built, Only on PropertyPro   \n",
       "1   Freddie Homes   Pop Ceiling, Water Treatment, Governor's Consent   \n",
       "2   Freddie Homes   Pop Ceiling, Water Treatment, Governor's Consent   \n",
       "3   Freddie Homes   Pop Ceiling, Water Treatment, Governor's Consent   \n",
       "4   Freddie Homes   Pop Ceiling, Water Treatment, Governor's Consent   \n",
       "5   Freddie Homes   Pop Ceiling, Water Treatment, Governor's Consent   \n",
       "6   Freddie Homes   Pop Ceiling, Water Treatment, Governor's Consent   \n",
       "7   Freddie Homes   Pop Ceiling, Water Treatment, Governor's Consent   \n",
       "8   Freddie Homes     Printing Service, Pop Ceiling, Water Treatment   \n",
       "9   Freddie Homes         Cctv Cameras, Pop Ceiling, Water Treatment   \n",
       "10   KOLDEJ HOMES                   Newly Built, Only on PropertyPro   \n",
       "11  Freddie Homes   Pop Ceiling, Water Treatment, Governor's Consent   \n",
       "12  Freddie Homes   Pop Ceiling, Water Treatment, Governor's Consent   \n",
       "13  Freddie Homes  Pop Ceiling, Water Treatment, 24 Hours Electri...   \n",
       "14  Freddie Homes   Pop Ceiling, Water Treatment, Governor's Consent   \n",
       "15  Freddie Homes   Pop Ceiling, Water Treatment, Governor's Consent   \n",
       "16  Freddie Homes  Pop Ceiling, Water Treatment, 24 Hours Electri...   \n",
       "17  Freddie Homes  Pop Ceiling, Water Treatment, 24 Hours Electri...   \n",
       "18  Freddie Homes   Pop Ceiling, Water Treatment, Governor's Consent   \n",
       "19  Freddie Homes   Pop Ceiling, Water Treatment, Governor's Consent   \n",
       "\n",
       "                                 Date Info  \n",
       "0   Updated 31 Jul 2025, Added 27 Oct 2024  \n",
       "1   Updated 01 Aug 2025, Added 01 Jul 2025  \n",
       "2   Updated 01 Aug 2025, Added 12 May 2025  \n",
       "3   Updated 01 Aug 2025, Added 27 Jul 2025  \n",
       "4   Updated 01 Aug 2025, Added 19 May 2025  \n",
       "5   Updated 01 Aug 2025, Added 11 Jun 2025  \n",
       "6   Updated 01 Aug 2025, Added 15 Jun 2025  \n",
       "7   Updated 01 Aug 2025, Added 24 Jul 2025  \n",
       "8   Updated 01 Aug 2025, Added 30 Jul 2025  \n",
       "9   Updated 01 Aug 2025, Added 20 Mar 2025  \n",
       "10  Updated 31 Jul 2025, Added 01 Sep 2024  \n",
       "11  Updated 01 Aug 2025, Added 04 May 2025  \n",
       "12  Updated 01 Aug 2025, Added 13 Jun 2025  \n",
       "13  Updated 01 Aug 2025, Added 16 Jun 2025  \n",
       "14  Updated 01 Aug 2025, Added 13 Jul 2025  \n",
       "15  Updated 01 Aug 2025, Added 25 Nov 2024  \n",
       "16  Updated 01 Aug 2025, Added 03 Jun 2025  \n",
       "17  Updated 01 Aug 2025, Added 04 Mar 2025  \n",
       "18  Updated 01 Aug 2025, Added 01 Jul 2025  \n",
       "19  Updated 01 Aug 2025, Added 01 Jul 2025  "
      ]
     },
     "execution_count": 90,
     "metadata": {},
     "output_type": "execute_result"
    }
   ],
   "source": [
    "df"
   ]
  },
  {
   "cell_type": "code",
   "execution_count": 91,
   "id": "43d63edc-8a3d-4b16-9972-0c76b1149b0a",
   "metadata": {},
   "outputs": [
    {
     "name": "stdout",
     "output_type": "stream",
     "text": [
      "22 22 22 22 22 22 22 20\n"
     ]
    }
   ],
   "source": [
    "print(len(titles), len(locations), len(types), len(prices), len(features), len(agents), len(dates), len(badges))\n"
   ]
  },
  {
   "cell_type": "code",
   "execution_count": 93,
   "id": "ac03d420-ac64-400e-bb5c-e8f99fab2057",
   "metadata": {},
   "outputs": [
    {
     "name": "stdout",
     "output_type": "stream",
     "text": [
      "<class 'pandas.core.frame.DataFrame'>\n",
      "RangeIndex: 20 entries, 0 to 19\n",
      "Data columns (total 8 columns):\n",
      " #   Column     Non-Null Count  Dtype \n",
      "---  ------     --------------  ----- \n",
      " 0   Title      20 non-null     object\n",
      " 1   Price      20 non-null     object\n",
      " 2   Location   20 non-null     object\n",
      " 3   Feature    20 non-null     object\n",
      " 4   Badge      20 non-null     object\n",
      " 5   Agent      20 non-null     object\n",
      " 6   Special    20 non-null     object\n",
      " 7   Date Info  20 non-null     object\n",
      "dtypes: object(8)\n",
      "memory usage: 1.4+ KB\n"
     ]
    }
   ],
   "source": [
    "df.info()"
   ]
  },
  {
   "cell_type": "code",
   "execution_count": null,
   "id": "fc332cb8-e387-476f-8eeb-d2a89543e9b1",
   "metadata": {},
   "outputs": [],
   "source": [
    "#clean the data\n"
   ]
  }
 ],
 "metadata": {
  "kernelspec": {
   "display_name": "Python 3 (ipykernel)",
   "language": "python",
   "name": "python3"
  },
  "language_info": {
   "codemirror_mode": {
    "name": "ipython",
    "version": 3
   },
   "file_extension": ".py",
   "mimetype": "text/x-python",
   "name": "python",
   "nbconvert_exporter": "python",
   "pygments_lexer": "ipython3",
   "version": "3.13.5"
  }
 },
 "nbformat": 4,
 "nbformat_minor": 5
}
